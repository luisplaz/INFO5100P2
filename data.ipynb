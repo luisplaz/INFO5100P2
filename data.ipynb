{
 "cells": [
  {
   "cell_type": "code",
   "execution_count": 2,
   "metadata": {
    "collapsed": true
   },
   "outputs": [],
   "source": [
    "import pandas"
   ]
  },
  {
   "cell_type": "code",
   "execution_count": 3,
   "metadata": {
    "collapsed": true
   },
   "outputs": [],
   "source": [
    "jan_data = pandas.read_csv('JanuaryData.csv')"
   ]
  },
  {
   "cell_type": "code",
   "execution_count": 39,
   "metadata": {
    "collapsed": false
   },
   "outputs": [],
   "source": [
    "delayed_flights = pandas.read_csv('DelayedFlights.csv')"
   ]
  },
  {
   "cell_type": "code",
   "execution_count": 40,
   "metadata": {
    "collapsed": false
   },
   "outputs": [],
   "source": [
    "jan_data_only = delayed_flights.query('MONTH == 1')"
   ]
  },
  {
   "cell_type": "code",
   "execution_count": 41,
   "metadata": {
    "collapsed": false
   },
   "outputs": [],
   "source": [
    "new_data = jan_data_final.merge(jan_data_only, 'left')\n"
   ]
  },
  {
   "cell_type": "code",
   "execution_count": 42,
   "metadata": {
    "collapsed": false
   },
   "outputs": [
    {
     "data": {
      "text/plain": [
       "Index([u'YEAR', u'MONTH', u'DAY', u'DAY_OF_WEEK', u'AIRLINE', u'FLIGHT_NUMBER',\n",
       "       u'ORIGIN_AIRPORT', u'OLATITUDE', u'OLONGITUDE', u'DESTINATION_AIRPORT',\n",
       "       u'DLATITUDE', u'DLONGITUDE', u'SCHEDULED_DEPARTURE', u'DEPARTURE_TIME',\n",
       "       u'Departure', u'DEPARTURE_DELAY', u'SCHEDULED_TIME', u'ELAPSED_TIME',\n",
       "       u'AIR_TIME', u'DISTANCE', u'SCHEDULED_ARRIVAL', u'ARRIVAL_TIME',\n",
       "       u'ARRIVAL_DELAY', u'DIVERTED', u'CANCELLED', u'AIR_SYSTEM_DELAY',\n",
       "       u'SECURITY_DELAY', u'AIRLINE_DELAY', u'LATE_AIRCRAFT_DELAY',\n",
       "       u'WEATHER_DELAY'],\n",
       "      dtype='object')"
      ]
     },
     "execution_count": 42,
     "metadata": {},
     "output_type": "execute_result"
    }
   ],
   "source": [
    "new_data.columns"
   ]
  },
  {
   "cell_type": "code",
   "execution_count": 43,
   "metadata": {
    "collapsed": false
   },
   "outputs": [],
   "source": [
    "new_data.drop([u'AIR_TIME', u'DEPARTURE_DELAY', u'ELAPSED_TIME', u'DIVERTED', u'YEAR', u'DAY_OF_WEEK', u'DISTANCE',  u'ARRIVAL_TIME',  u'SCHEDULED_TIME'],inplace=True,axis=1)\n"
   ]
  },
  {
   "cell_type": "code",
   "execution_count": 44,
   "metadata": {
    "collapsed": false
   },
   "outputs": [
    {
     "data": {
      "text/plain": [
       "Index([u'MONTH', u'DAY', u'AIRLINE', u'FLIGHT_NUMBER', u'ORIGIN_AIRPORT',\n",
       "       u'OLATITUDE', u'OLONGITUDE', u'DESTINATION_AIRPORT', u'DLATITUDE',\n",
       "       u'DLONGITUDE', u'SCHEDULED_DEPARTURE', u'DEPARTURE_TIME', u'Departure',\n",
       "       u'SCHEDULED_ARRIVAL', u'ARRIVAL_DELAY', u'CANCELLED',\n",
       "       u'AIR_SYSTEM_DELAY', u'SECURITY_DELAY', u'AIRLINE_DELAY',\n",
       "       u'LATE_AIRCRAFT_DELAY', u'WEATHER_DELAY'],\n",
       "      dtype='object')"
      ]
     },
     "execution_count": 44,
     "metadata": {},
     "output_type": "execute_result"
    }
   ],
   "source": [
    "new_data.columns"
   ]
  },
  {
   "cell_type": "code",
   "execution_count": 45,
   "metadata": {
    "collapsed": false
   },
   "outputs": [
    {
     "data": {
      "text/plain": [
       "(5447, 21)"
      ]
     },
     "execution_count": 45,
     "metadata": {},
     "output_type": "execute_result"
    }
   ],
   "source": [
    "new_data.shape"
   ]
  },
  {
   "cell_type": "code",
   "execution_count": 47,
   "metadata": {
    "collapsed": true
   },
   "outputs": [],
   "source": [
    "new_data.to_csv(\"newData.csv\")"
   ]
  },
  {
   "cell_type": "markdown",
   "metadata": {
    "collapsed": true
   },
   "source": [
    "SUM DELAY"
   ]
  },
  {
   "cell_type": "code",
   "execution_count": 19,
   "metadata": {
    "collapsed": false
   },
   "outputs": [
    {
     "data": {
      "text/plain": [
       "DAY\n",
       "1      74\n",
       "2     103\n",
       "3     237\n",
       "4     344\n",
       "5     295\n",
       "6     418\n",
       "7     327\n",
       "8     146\n",
       "9     393\n",
       "10     59\n",
       "11     76\n",
       "12    210\n",
       "13     60\n",
       "14     85\n",
       "15     94\n",
       "16    142\n",
       "17     29\n",
       "18    111\n",
       "19     87\n",
       "20     30\n",
       "21     62\n",
       "22     94\n",
       "23     87\n",
       "24    191\n",
       "25     45\n",
       "26    448\n",
       "27    571\n",
       "28    212\n",
       "29     85\n",
       "30    296\n",
       "31     36\n",
       "Name: YEAR, dtype: int64"
      ]
     },
     "execution_count": 19,
     "metadata": {},
     "output_type": "execute_result"
    }
   ],
   "source": [
    "jan_data.groupby('DAY').agg('count')['YEAR']"
   ]
  },
  {
   "cell_type": "code",
   "execution_count": 15,
   "metadata": {
    "collapsed": false
   },
   "outputs": [
    {
     "data": {
      "text/plain": [
       "<bound method Series.reset_index of DAY\n",
       "1       2\n",
       "2       0\n",
       "3       5\n",
       "4      15\n",
       "5      21\n",
       "6      34\n",
       "7      47\n",
       "8      17\n",
       "9      51\n",
       "10      2\n",
       "11      2\n",
       "12     36\n",
       "13      8\n",
       "14      9\n",
       "15     12\n",
       "16      4\n",
       "17      1\n",
       "18      5\n",
       "19      2\n",
       "20      5\n",
       "21      7\n",
       "22      4\n",
       "23      4\n",
       "24     26\n",
       "25      3\n",
       "26    252\n",
       "27    571\n",
       "28    154\n",
       "29      8\n",
       "30     12\n",
       "31      3\n",
       "Name: CANCELLED, dtype: int64>"
      ]
     },
     "execution_count": 15,
     "metadata": {},
     "output_type": "execute_result"
    }
   ],
   "source": [
    "jan_data.groupby('DAY').agg('sum')['CANCELLED'].reset_index"
   ]
  },
  {
   "cell_type": "code",
   "execution_count": null,
   "metadata": {
    "collapsed": true
   },
   "outputs": [],
   "source": []
  }
 ],
 "metadata": {
  "kernelspec": {
   "display_name": "Python 2",
   "language": "python",
   "name": "python2"
  },
  "language_info": {
   "codemirror_mode": {
    "name": "ipython",
    "version": 2
   },
   "file_extension": ".py",
   "mimetype": "text/x-python",
   "name": "python",
   "nbconvert_exporter": "python",
   "pygments_lexer": "ipython2",
   "version": "2.7.13"
  }
 },
 "nbformat": 4,
 "nbformat_minor": 2
}
